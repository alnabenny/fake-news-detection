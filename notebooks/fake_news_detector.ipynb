{
  "cells": [
    {
      "cell_type": "markdown",
      "metadata": {
        "id": "view-in-github",
        "colab_type": "text"
      },
      "source": [
        "<a href=\"https://colab.research.google.com/github/alnabenny/fake-news-detection/blob/main/notebooks/fake_news_detector.ipynb\" target=\"_parent\"><img src=\"https://colab.research.google.com/assets/colab-badge.svg\" alt=\"Open In Colab\"/></a>"
      ]
    },
    {
      "cell_type": "code",
      "execution_count": 1,
      "metadata": {
        "colab": {
          "base_uri": "https://localhost:8080/"
        },
        "id": "YPrDunnYHZDE",
        "outputId": "ccf749cb-086d-421c-e27f-ffa1ee1943ae"
      },
      "outputs": [
        {
          "output_type": "stream",
          "name": "stdout",
          "text": [
            "Mounted at /content/drive\n"
          ]
        }
      ],
      "source": [
        "from google.colab import drive\n",
        "drive.mount('/content/drive')"
      ]
    },
    {
      "cell_type": "code",
      "execution_count": 2,
      "metadata": {
        "colab": {
          "base_uri": "https://localhost:8080/"
        },
        "id": "VfNJPweJIjve",
        "outputId": "cb5595d9-e629-4810-805d-2b9997212541"
      },
      "outputs": [
        {
          "output_type": "stream",
          "name": "stdout",
          "text": [
            "Collecting nlpaug\n",
            "  Downloading nlpaug-1.1.11-py3-none-any.whl.metadata (14 kB)\n",
            "Requirement already satisfied: numpy>=1.16.2 in /usr/local/lib/python3.11/dist-packages (from nlpaug) (2.0.2)\n",
            "Requirement already satisfied: pandas>=1.2.0 in /usr/local/lib/python3.11/dist-packages (from nlpaug) (2.2.2)\n",
            "Requirement already satisfied: requests>=2.22.0 in /usr/local/lib/python3.11/dist-packages (from nlpaug) (2.32.3)\n",
            "Requirement already satisfied: gdown>=4.0.0 in /usr/local/lib/python3.11/dist-packages (from nlpaug) (5.2.0)\n",
            "Requirement already satisfied: beautifulsoup4 in /usr/local/lib/python3.11/dist-packages (from gdown>=4.0.0->nlpaug) (4.13.3)\n",
            "Requirement already satisfied: filelock in /usr/local/lib/python3.11/dist-packages (from gdown>=4.0.0->nlpaug) (3.18.0)\n",
            "Requirement already satisfied: tqdm in /usr/local/lib/python3.11/dist-packages (from gdown>=4.0.0->nlpaug) (4.67.1)\n",
            "Requirement already satisfied: python-dateutil>=2.8.2 in /usr/local/lib/python3.11/dist-packages (from pandas>=1.2.0->nlpaug) (2.8.2)\n",
            "Requirement already satisfied: pytz>=2020.1 in /usr/local/lib/python3.11/dist-packages (from pandas>=1.2.0->nlpaug) (2025.2)\n",
            "Requirement already satisfied: tzdata>=2022.7 in /usr/local/lib/python3.11/dist-packages (from pandas>=1.2.0->nlpaug) (2025.2)\n",
            "Requirement already satisfied: charset-normalizer<4,>=2 in /usr/local/lib/python3.11/dist-packages (from requests>=2.22.0->nlpaug) (3.4.1)\n",
            "Requirement already satisfied: idna<4,>=2.5 in /usr/local/lib/python3.11/dist-packages (from requests>=2.22.0->nlpaug) (3.10)\n",
            "Requirement already satisfied: urllib3<3,>=1.21.1 in /usr/local/lib/python3.11/dist-packages (from requests>=2.22.0->nlpaug) (2.3.0)\n",
            "Requirement already satisfied: certifi>=2017.4.17 in /usr/local/lib/python3.11/dist-packages (from requests>=2.22.0->nlpaug) (2025.1.31)\n",
            "Requirement already satisfied: six>=1.5 in /usr/local/lib/python3.11/dist-packages (from python-dateutil>=2.8.2->pandas>=1.2.0->nlpaug) (1.17.0)\n",
            "Requirement already satisfied: soupsieve>1.2 in /usr/local/lib/python3.11/dist-packages (from beautifulsoup4->gdown>=4.0.0->nlpaug) (2.6)\n",
            "Requirement already satisfied: typing-extensions>=4.0.0 in /usr/local/lib/python3.11/dist-packages (from beautifulsoup4->gdown>=4.0.0->nlpaug) (4.13.0)\n",
            "Requirement already satisfied: PySocks!=1.5.7,>=1.5.6 in /usr/local/lib/python3.11/dist-packages (from requests[socks]->gdown>=4.0.0->nlpaug) (1.7.1)\n",
            "Downloading nlpaug-1.1.11-py3-none-any.whl (410 kB)\n",
            "\u001b[2K   \u001b[90m━━━━━━━━━━━━━━━━━━━━━━━━━━━━━━━━━━━━━━━━\u001b[0m \u001b[32m410.5/410.5 kB\u001b[0m \u001b[31m7.0 MB/s\u001b[0m eta \u001b[36m0:00:00\u001b[0m\n",
            "\u001b[?25hInstalling collected packages: nlpaug\n",
            "Successfully installed nlpaug-1.1.11\n"
          ]
        }
      ],
      "source": [
        "!pip install nlpaug"
      ]
    },
    {
      "cell_type": "code",
      "execution_count": 3,
      "metadata": {
        "colab": {
          "base_uri": "https://localhost:8080/"
        },
        "id": "O_dWalsuIj7u",
        "outputId": "da98f428-876b-4c77-884c-c826fe271bbf"
      },
      "outputs": [
        {
          "output_type": "stream",
          "name": "stderr",
          "text": [
            "[nltk_data] Downloading package averaged_perceptron_tagger to\n",
            "[nltk_data]     /root/nltk_data...\n",
            "[nltk_data]   Unzipping taggers/averaged_perceptron_tagger.zip.\n",
            "[nltk_data] Downloading package wordnet to /root/nltk_data...\n",
            "[nltk_data] Downloading package omw-1.4 to /root/nltk_data...\n",
            "[nltk_data] Downloading package punkt to /root/nltk_data...\n",
            "[nltk_data]   Unzipping tokenizers/punkt.zip.\n",
            "[nltk_data] Downloading package maxent_ne_chunker to\n",
            "[nltk_data]     /root/nltk_data...\n",
            "[nltk_data]   Unzipping chunkers/maxent_ne_chunker.zip.\n",
            "[nltk_data] Downloading package words to /root/nltk_data...\n",
            "[nltk_data]   Unzipping corpora/words.zip.\n",
            "[nltk_data] Downloading package averaged_perceptron_tagger_eng to\n",
            "[nltk_data]     /root/nltk_data...\n",
            "[nltk_data]   Unzipping taggers/averaged_perceptron_tagger_eng.zip.\n"
          ]
        },
        {
          "output_type": "execute_result",
          "data": {
            "text/plain": [
              "True"
            ]
          },
          "metadata": {},
          "execution_count": 3
        }
      ],
      "source": [
        "import nltk\n",
        "\n",
        "# Download all necessary resources\n",
        "nltk.download('averaged_perceptron_tagger')\n",
        "nltk.download('wordnet')\n",
        "nltk.download('omw-1.4')\n",
        "nltk.download('punkt')\n",
        "nltk.download('maxent_ne_chunker')\n",
        "nltk.download('words')\n",
        "\n",
        "# Manually install the missing package\n",
        "nltk.download('averaged_perceptron_tagger_eng')\n"
      ]
    },
    {
      "cell_type": "code",
      "execution_count": 4,
      "metadata": {
        "colab": {
          "base_uri": "https://localhost:8080/"
        },
        "id": "4RTiLPHhIkGI",
        "outputId": "6521a267-e64e-4eb5-dff4-732065c90517"
      },
      "outputs": [
        {
          "output_type": "stream",
          "name": "stdout",
          "text": [
            "🔹 Original: NASA verifies human settlement on Mars by next year.\n",
            "🔹 Augmented: ['NASA verifies human settlement on Mars by adjacent twelvemonth.']\n"
          ]
        }
      ],
      "source": [
        "import nlpaug.augmenter.word as naw\n",
        "\n",
        "# Create an augmenter that replaces words with synonyms\n",
        "aug = naw.SynonymAug(aug_src='wordnet', aug_p=0.2)\n",
        "\n",
        "# Example news headline\n",
        "text = \"NASA verifies human settlement on Mars by next year.\"\n",
        "\n",
        "# Generate an augmented version\n",
        "augmented_text = aug.augment(text)\n",
        "\n",
        "print(\"🔹 Original:\", text)\n",
        "print(\"🔹 Augmented:\", augmented_text)\n"
      ]
    },
    {
      "cell_type": "code",
      "execution_count": 5,
      "metadata": {
        "colab": {
          "base_uri": "https://localhost:8080/"
        },
        "id": "qjGFl3qyIvVt",
        "outputId": "4b699243-adda-4d32-8c18-0b63b53e0413"
      },
      "outputs": [
        {
          "output_type": "stream",
          "name": "stdout",
          "text": [
            "'03-Nov-2020 10:36:47 AM.jpeg'\n",
            "'03-Nov-2020 10:56:19 AM.jpeg'\n",
            "'03-Nov-2020 11:06:56 AM.jpeg'\n",
            "'03-Nov-2020 11:07:50 AM.jpeg'\n",
            "'03-Nov-2020 11:39:55 AM.jpeg'\n",
            "'03-Nov-2020 11:42:17 AM.jpeg'\n",
            "'03-Nov-2020 12:15:46 PM.jpeg'\n",
            "'03-Nov-2020 3:58:46 PM.jpeg'\n",
            "'04-Nov-2020 12:17:56 PM.jpeg'\n",
            "'05-Nov-2020 1:05:46 PM.jpeg'\n",
            "'07-Jan-2021 11:19:29 AM.jpeg'\n",
            "'07-Jan-2021 11:20:48 AM.jpeg'\n",
            "'07-Jan-2021 11:24:23 AM.jpeg'\n",
            "'07-Jan-2021 11:36:42 AM.jpeg'\n",
            "'07-Jan-2021 11:37:49 AM.jpeg'\n",
            "'10 alna.pdf'\n",
            "'10-Nov-2020 12:13:23 PM.jpeg'\n",
            "'10-Nov-2020 3:11:40 PM (1).jpeg'\n",
            "'10-Nov-2020 3:11:40 PM (2).jpeg'\n",
            "'10-Nov-2020 3:11:40 PM.jpeg'\n",
            "'10-Nov-2020 7:59:21 PM.jpeg'\n",
            "'10-Nov-2020 8:00:49 PM.jpeg'\n",
            "'10th alna.pdf'\n",
            "'12 alna.pdf'\n",
            "'12th alna.pdf'\n",
            " 12th.pdf\n",
            "'1438938659STD V.pdf'\n",
            " 1600437185915..jpg\n",
            " 1600437267230..jpg\n",
            " 16149387476476610779400138937177.jpg\n",
            " 20210201_203546_copy_150x200.jpg\n",
            " 20220729_223131.jpg\n",
            "'21-Oct-2020 11:42:12 AM.jpeg'\n",
            "'21-Oct-2020 2:44:54 PM.jpeg'\n",
            "'21-Oct-2020 2:45:19 PM.jpeg'\n",
            "'21-Oct-2020 2:47:44 PM (1).jpeg'\n",
            "'21-Oct-2020 2:47:44 PM.jpeg'\n",
            "'21-Oct-2020 2:48:10 PM (1).jpeg'\n",
            "'21-Oct-2020 2:48:10 PM.jpeg'\n",
            "'21-Oct-2020 2:48:37 PM (1).jpeg'\n",
            "'21-Oct-2020 2:48:37 PM.jpeg'\n",
            "'21-Oct-2020 2:49:55 PM.jpeg'\n",
            "'21-Oct-2020 2:50:19 PM.jpeg'\n",
            "'21-Oct-2020 2:50:52 PM (1).jpeg'\n",
            "'21-Oct-2020 2:50:52 PM.jpeg'\n",
            "'21-Oct-2020 3:05:56 PM.jpeg'\n",
            "'21-Oct-2020 3:36:03 PM.jpeg'\n",
            "'21-Oct-2020 3:47:36 PM.jpeg'\n",
            " 2b9354a6942020838f52eaeca789383a.gif\n",
            " 2mock.pdf\n",
            "'30-Jan-2021 11:27:06 AM.jpeg'\n",
            "'30-Jan-2021 12:09:13 PM.jpeg'\n",
            "'30-Jan-2021 12:10:04 PM.jpeg'\n",
            " A\n",
            " Aadhar.jpg\n",
            "'Achievement (1).pdf'\n",
            "'Achievement (2).pdf'\n",
            "'Achievement (3).pdf'\n",
            " Achievement.pdf\n",
            " achu.pdf\n",
            " Adcu.pdf\n",
            " Adhar.jpg\n",
            "'AdmitCard cucet.pdf'\n",
            " alad.pdf\n",
            "'AL chem.pdf'\n",
            "'al farook.jpg'\n",
            " Alna\n",
            "'ALNA 1.pdf'\n",
            "'Alna 289844 Rom 191.jpg'\n",
            "'ALNA 2.pdf'\n",
            " Alna_58_Seminarppt-1.gdoc\n",
            " Alna_58_Seminarppt-1.pdf\n",
            "'alna aadhar.jpg'\n",
            "'alna benny'\n",
            " Alna_Benny_CSE.pdf\n",
            "'Alna_Benny_Resume-1 (2).pdf'\n",
            "'Alna_Benny_Resume (2).pdf'\n",
            " Alna_Benny_Resume.gdoc\n",
            "'alna marks.pdf'\n",
            "'alna photo (1).jpg'\n",
            "'alna photo.jpg'\n",
            "'alna psc'\n",
            "'alna sign.jpg'\n",
            "'ALNA tc.pdf'\n",
            " alnph.pdf\n",
            "'alph13357 (273×333)'\n",
            "'alsi13358 (455×244)'\n",
            " alsig.pdf\n",
            " alva.jpg\n",
            "'Application Kannur.PDF'\n",
            "'Ashil engexam.pdf'\n",
            "'Ashil english.pdf'\n",
            " Ashil.pdf\n",
            " Ass1.pdf\n",
            " Assignelectrical.pdf\n",
            " caste.pdf\n",
            "'Cee refund.jpg'\n",
            "'Chems assignment.pdf'\n",
            "'chems series.pdf'\n",
            "'Christian (4).jpg'\n",
            " Christian.jpg\n",
            " Classroom\n",
            "'Colab Notebooks'\n",
            " combined_dataset.csv\n",
            " conduct.pdf\n",
            "'Copy of Copy of 2. Entry Level Data Scientist Resume.gdoc'\n",
            " Copy_of_Untitled14.ipynb\n",
            " cuad.pdf\n",
            "'Cucet admit.pdf'\n",
            "'Cucet score.PDF'\n",
            " cv.jpg\n",
            " Cv.pdf\n",
            " CV.pdf\n",
            "'datasheet_pdf (4).pdf'\n",
            "'DM ASSIGNMENT 2.gdoc'\n",
            "'DM ASSIGNMENT .gdoc'\n",
            "'DM ASSIGNMENTS (1).gdoc'\n",
            "'DM ASSIGNMENTS.gdoc'\n",
            "'DOC-20250309-WA0007. (1).pdf'\n",
            " DOC-20250309-WA0007..pdf\n",
            " Document.pdf\n",
            "'Edited - Ashil engexam.pdf'\n",
            "'Edited - Eng pre midterm.pdf'\n",
            "'Edited - maths midterm (1).pdf'\n",
            "'Edited - maths midterm.pdf'\n",
            "'Edited - maths.pdf'\n",
            "'Edited - science exam.pdf'\n",
            "'Edited - science.pdf'\n",
            "'electrical series.pdf'\n",
            "'electronics series.pdf'\n",
            "'Eng pre midterm.pdf'\n",
            " Fake_augmented.csv\n",
            " Fake.csv\n",
            " Fake_labeled.csv\n",
            " fakenewsnet\n",
            " fake_news_repo\n",
            " farl.jpg\n",
            " farook.jpg\n",
            "'fee gec.jpg'\n",
            "'Free CAT Resources (1).xlsx'\n",
            "'Free CAT Resources.gsheet'\n",
            "'Free CAT Resources.xlsx'\n",
            "'gec admit.jpg'\n",
            "'Gec datasheet.pdf'\n",
            "'Getting started.pdf'\n",
            "'Gipe Answer.pdf'\n",
            "'g k mid tearm.pdf'\n",
            " gk.pdf\n",
            " gossipcop_fake.csv\n",
            " gossipcop_real.csv\n",
            "'Group17 (1).pdf'\n",
            " Group17.pdf\n",
            "'Hindi ashil.pdf'\n",
            "'hindi note Ashil.pdf'\n",
            " IMG_20200904_172649.jpg\n",
            " IMG_20200907_110819.jpg\n",
            " IMG_20200909_132941.jpg\n",
            "'IMG_20200909_132945 (1).jpg'\n",
            " IMG_20200909_132945.jpg\n",
            " IMG_20200909_212817.jpg\n",
            " IMG-20210819-WA0002.jpg\n",
            " IMG-20210819-WA0003.jpg\n",
            " IMG-20210819-WA0004.jpg\n",
            " IMG-20210819-WA0005.jpg\n",
            " income22.pdf\n",
            " income.pdf\n",
            "'ipm result.jpg'\n",
            " Latest_News.zip\n",
            "'LS PPT. (1).pptx'\n",
            "'LS PPT..pptx'\n",
            " Malayalam.pdf\n",
            "'maths midterm (1).pdf'\n",
            "'maths midterm (2).pdf'\n",
            "'maths midterm.pdf'\n",
            " maths.pdf\n",
            "'Maths Series.pdf'\n",
            " mcmap.jpg\n",
            " mcm.jpg\n",
            " mechanics.pdf\n",
            "'mech assignment.pdf'\n",
            "'mech series.pdf'\n",
            "'migration (1).pdf'\n",
            " migration.pdf\n",
            " Minority.pdf\n",
            "'Mobile App Design (1).pdf'\n",
            "'moral science.pdf'\n",
            " News-_dataset.zip\n",
            "'passbook alna.pdf'\n",
            " PASSBOOK.pdf\n",
            " PC.gsheet\n",
            "'Pic .jpg'\n",
            " Picture.jpg\n",
            " politifact_fake.csv\n",
            " politifact_real.csv\n",
            "'pre midterm .pdf'\n",
            "'pre midterm.pdf'\n",
            "'refund cee.pdf'\n",
            " Report.gdoc\n",
            " Resume.pdf\n",
            " Scanned_20200830-2019.pdf\n",
            " Scanned_20210627-1113.pdf\n",
            "'Scanned_2 mock.pdf'\n",
            " Scanned_mock.pdf\n",
            "'science exam.pdf'\n",
            " Screenshot_20240925-190401.png\n",
            " Screenshot_20250203-210143.png\n",
            "'Social Ashil.pdf'\n",
            " Transfer.pdf\n",
            " True.csv\n",
            "'tutorial 3.pdf'\n",
            " Tutorial.chems.pdf\n",
            "'Untitled document (1).gdoc'\n",
            "'Untitled document.gdoc'\n",
            "'Untitled spreadsheet (1).gsheet'\n",
            "'Untitled spreadsheet.gsheet'\n",
            " vaccine.pdf\n",
            " veed.pdf\n",
            "'WhatsApp Video 2024-12-24 at 11.33.07 PM.mp4'\n",
            "'WhatsApp Video 2024-12-24 at 12.25.49 AM.mp4'\n",
            "'wynd admit.jpg'\n",
            "'വാക്യത്തിൽ പ്രയോഗിക്കുക (09-Sep-2020 1:30:23 PM).jpeg'\n"
          ]
        }
      ],
      "source": [
        "!ls /content/drive/MyDrive/\n"
      ]
    },
    {
      "cell_type": "code",
      "execution_count": 6,
      "metadata": {
        "colab": {
          "base_uri": "https://localhost:8080/"
        },
        "id": "RzuZnNG4I3Et",
        "outputId": "5c1d0389-771d-45c7-ff7b-c4844a897248"
      },
      "outputs": [
        {
          "output_type": "stream",
          "name": "stdout",
          "text": [
            "📝 Column Names: Index(['title', 'text', 'subject', 'date'], dtype='object')\n"
          ]
        }
      ],
      "source": [
        "import pandas as pd\n",
        "\n",
        "# Load the dataset\n",
        "df = pd.read_csv('/content/drive/MyDrive/Fake.csv')\n",
        "\n",
        "# Print column names\n",
        "print(\"📝 Column Names:\", df.columns)\n"
      ]
    },
    {
      "cell_type": "code",
      "execution_count": 7,
      "metadata": {
        "colab": {
          "base_uri": "https://localhost:8080/"
        },
        "id": "Eq8A8vMrJDZR",
        "outputId": "1b94562d-fe5c-4686-f583-49e9b97438e4"
      },
      "outputs": [
        {
          "output_type": "stream",
          "name": "stdout",
          "text": [
            "✅ 'label' column added successfully! New file saved as 'Fake_labeled.csv'\n"
          ]
        }
      ],
      "source": [
        "import pandas as pd\n",
        "\n",
        "# Load dataset\n",
        "df = pd.read_csv('/content/drive/MyDrive/Fake.csv')\n",
        "\n",
        "# Add a 'label' column (0 for fake news)\n",
        "df['label'] = 0\n",
        "\n",
        "# Save the updated dataset\n",
        "df.to_csv('/content/drive/MyDrive/Fake_labeled.csv', index=False)\n",
        "\n",
        "print(\"✅ 'label' column added successfully! New file saved as 'Fake_labeled.csv'\")\n"
      ]
    },
    {
      "cell_type": "code",
      "execution_count": 8,
      "metadata": {
        "colab": {
          "base_uri": "https://localhost:8080/"
        },
        "id": "3R8deefiJH5v",
        "outputId": "b01ff8fc-54b8-443e-d8b6-f150387b5eb4"
      },
      "outputs": [
        {
          "output_type": "stream",
          "name": "stdout",
          "text": [
            "✅ Data Augmentation Completed. New dataset saved as 'Fake_augmented.csv'\n"
          ]
        }
      ],
      "source": [
        "import pandas as pd\n",
        "import nlpaug.augmenter.word as naw\n",
        "\n",
        "# Load the updated dataset\n",
        "df = pd.read_csv('/content/drive/MyDrive/Fake_labeled.csv')\n",
        "\n",
        "# Create a synonym augmenter\n",
        "aug = naw.SynonymAug(aug_src='wordnet', aug_p=0.2)\n",
        "\n",
        "# Apply augmentation to a subset (only augment a few samples to avoid overloading)\n",
        "augmented_texts = []\n",
        "augmented_labels = []\n",
        "\n",
        "for i in range(len(df) // 5):  # Augment only 20% of the data\n",
        "    original_text = df.iloc[i][\"text\"]\n",
        "    augmented_text = aug.augment(original_text)\n",
        "\n",
        "    augmented_texts.append(augmented_text)\n",
        "    augmented_labels.append(df.iloc[i][\"label\"])  # Keep the same label\n",
        "\n",
        "# Convert to DataFrame and add to original data\n",
        "aug_df = pd.DataFrame({\"text\": augmented_texts, \"label\": augmented_labels})\n",
        "df = pd.concat([df, aug_df], ignore_index=True)\n",
        "\n",
        "# Save the new dataset\n",
        "df.to_csv('/content/drive/MyDrive/Fake_augmented.csv', index=False)\n",
        "\n",
        "print(\"✅ Data Augmentation Completed. New dataset saved as 'Fake_augmented.csv'\")\n"
      ]
    },
    {
      "cell_type": "code",
      "execution_count": 9,
      "metadata": {
        "colab": {
          "base_uri": "https://localhost:8080/"
        },
        "id": "5FJ03NBuJIFb",
        "outputId": "28cb3f16-87aa-431c-e47b-629c2d8da7ff"
      },
      "outputs": [
        {
          "output_type": "stream",
          "name": "stdout",
          "text": [
            "✅ Dataset Split: 18784 training samples, 4697 testing samples\n"
          ]
        }
      ],
      "source": [
        "import pandas as pd\n",
        "from sklearn.model_selection import train_test_split\n",
        "\n",
        "# Load the augmented dataset\n",
        "df = pd.read_csv('/content/drive/MyDrive/Fake_augmented.csv')\n",
        "\n",
        "# Check for missing values and drop them if any\n",
        "df = df.dropna()\n",
        "\n",
        "# Split dataset into train & test sets (80% train, 20% test)\n",
        "train_texts, test_texts, train_labels, test_labels = train_test_split(\n",
        "    df['text'], df['label'], test_size=0.2, random_state=42\n",
        ")\n",
        "\n",
        "print(f\"✅ Dataset Split: {len(train_texts)} training samples, {len(test_texts)} testing samples\")\n"
      ]
    },
    {
      "cell_type": "code",
      "execution_count": 10,
      "metadata": {
        "colab": {
          "base_uri": "https://localhost:8080/"
        },
        "id": "1ZeXa1fpJgH-",
        "outputId": "8bd4b7f5-f81a-4fc4-c55a-fd2e9adc13ea"
      },
      "outputs": [
        {
          "output_type": "stream",
          "name": "stdout",
          "text": [
            "✅ Labels encoded: {np.int64(0)}\n"
          ]
        }
      ],
      "source": [
        "from sklearn.preprocessing import LabelEncoder\n",
        "\n",
        "label_encoder = LabelEncoder()\n",
        "train_labels = label_encoder.fit_transform(train_labels)\n",
        "test_labels = label_encoder.transform(test_labels)\n",
        "\n",
        "print(f\"✅ Labels encoded: {set(train_labels)}\")\n"
      ]
    },
    {
      "cell_type": "code",
      "execution_count": 11,
      "metadata": {
        "colab": {
          "base_uri": "https://localhost:8080/"
        },
        "id": "P5sotNOhJIQq",
        "outputId": "497a2cce-f8a6-4bb4-bba1-4b5aaa1036ec"
      },
      "outputs": [
        {
          "output_type": "stream",
          "name": "stdout",
          "text": [
            "label\n",
            "0    23481\n",
            "Name: count, dtype: int64\n"
          ]
        }
      ],
      "source": [
        "print(df['label'].value_counts())"
      ]
    },
    {
      "cell_type": "code",
      "execution_count": 12,
      "metadata": {
        "colab": {
          "base_uri": "https://localhost:8080/"
        },
        "id": "CmrlScfnJlB8",
        "outputId": "02c9b156-3e82-4fe6-cb0f-419cd6fa2d52"
      },
      "outputs": [
        {
          "output_type": "stream",
          "name": "stdout",
          "text": [
            "Fake.csv samples: 23481\n",
            "True.csv samples: 21417\n"
          ]
        }
      ],
      "source": [
        "df_original = pd.read_csv(\"/content/drive/MyDrive/Fake.csv\")\n",
        "print(\"Fake.csv samples:\", len(df_original))\n",
        "\n",
        "df_real = pd.read_csv(\"/content/drive/MyDrive/True.csv\")\n",
        "print(\"True.csv samples:\", len(df_real))\n"
      ]
    },
    {
      "cell_type": "code",
      "execution_count": 13,
      "metadata": {
        "id": "yGWO1xhwJlKh",
        "colab": {
          "base_uri": "https://localhost:8080/"
        },
        "outputId": "bd728167-ced7-4e80-ab5e-3e0c3c387051"
      },
      "outputs": [
        {
          "output_type": "stream",
          "name": "stdout",
          "text": [
            "✅ Combined dataset created with shape: (44898, 2)\n",
            "label\n",
            "0    23481\n",
            "1    21417\n",
            "Name: count, dtype: int64\n"
          ]
        }
      ],
      "source": [
        "import pandas as pd\n",
        "\n",
        "# Load original datasets\n",
        "df_fake = pd.read_csv(\"/content/drive/MyDrive/Fake.csv\")\n",
        "df_real = pd.read_csv(\"/content/drive/MyDrive/True.csv\")\n",
        "\n",
        "# Assign labels\n",
        "df_fake[\"label\"] = 0\n",
        "df_real[\"label\"] = 1\n",
        "\n",
        "# Combine and shuffle\n",
        "df_combined = pd.concat([df_fake, df_real], ignore_index=True)\n",
        "df_combined = df_combined.sample(frac=1, random_state=42).reset_index(drop=True)\n",
        "\n",
        "# Keep only the required columns\n",
        "df_combined = df_combined[[\"text\", \"label\"]]\n",
        "\n",
        "# Save for reference\n",
        "df_combined.to_csv(\"/content/drive/MyDrive/combined_dataset.csv\", index=False)\n",
        "\n",
        "print(\"✅ Combined dataset created with shape:\", df_combined.shape)\n",
        "print(df_combined[\"label\"].value_counts())\n"
      ]
    },
    {
      "cell_type": "code",
      "execution_count": 14,
      "metadata": {
        "colab": {
          "base_uri": "https://localhost:8080/"
        },
        "id": "DzNZLnVMJlSx",
        "outputId": "74d22828-7a84-4efc-b74f-b7fec8d87823"
      },
      "outputs": [
        {
          "output_type": "stream",
          "name": "stdout",
          "text": [
            "✅ Split done: 35918 train samples, 8980 test samples\n"
          ]
        }
      ],
      "source": [
        "from sklearn.model_selection import train_test_split\n",
        "\n",
        "# Reload the balanced dataset\n",
        "df = pd.read_csv('/content/drive/MyDrive/combined_dataset.csv')\n",
        "\n",
        "# Check and drop any missing values\n",
        "df = df.dropna()\n",
        "\n",
        "# Train-test split\n",
        "train_texts, test_texts, train_labels, test_labels = train_test_split(\n",
        "    df['text'], df['label'], test_size=0.2, random_state=42\n",
        ")\n",
        "\n",
        "print(f\"✅ Split done: {len(train_texts)} train samples, {len(test_texts)} test samples\")"
      ]
    },
    {
      "cell_type": "code",
      "execution_count": 15,
      "metadata": {
        "colab": {
          "base_uri": "https://localhost:8080/",
          "height": 289,
          "referenced_widgets": [
            "fcba53cba3734948b4b4112bfcc4d8d4",
            "b36720d25d5049648a723c7e8313beb5",
            "938149e5335943df93daea9a393d4779",
            "733473248b7742a89d51d24969c6fd51",
            "1f21fbc6d02449d1b96e01164de09348",
            "66140d3a0edb4c9aa4177c24e27846eb",
            "6a98fcd4b21e4f7abd790f70bbe94d47",
            "28da2be99ed34ce4bee971217c71bd00",
            "e020b0986a4a4f18abc00bb4f16cd445",
            "4e1794e8c3ee4bdfad121441a681ecd7",
            "9528e64f93754a7fa87ff0be4cfac42c",
            "0c7014d5fd0f4a3f9552caf3acf7e667",
            "4be87af6414847cc90abf2282b45fe8f",
            "b823b66cee714c8da81654dff3d6da7c",
            "969b67ee24624d07ac72f22fbafef7ef",
            "88d98e5442d04b8eb3d6c47cd49ee75c",
            "a630c4a90cd64bf29631729443331960",
            "313f9810fa6b4b3d9df19862d739aba1",
            "048f4fad07c84b429149391bd9b641be",
            "835ce6ae9a61454988008f78af31b915",
            "64fc47e0d63845e69739701ba65e3c2f",
            "dfa759e3d1164b62ab46549c092570fb",
            "219ae514338e49f4b7805fa98399c511",
            "7dd1aedc40cb42019f101c430184bb0f",
            "113f538e200e4a2cb85010eda535b230",
            "9340a4be31ff4e53bab79f6aa9e20658",
            "a8135bbc69ae4ac688784e303728bb90",
            "3b0580ebc0894f7ea8261f4ba00c1dd6",
            "00fed49df1c9446e95fa24088ac8c36e",
            "b0631ee061e74e009140349692873852",
            "0e6d246cba9a43ccbf05d2c68748e009",
            "6e7ed9addc574826986f8eb45c7701b9",
            "9b563b4a533c46489253b860703ae85e"
          ]
        },
        "id": "fXZsMg6XJlbD",
        "outputId": "fe8b4a35-fa49-4f34-87c8-e0a80c8510c1"
      },
      "outputs": [
        {
          "output_type": "stream",
          "name": "stderr",
          "text": [
            "/usr/local/lib/python3.11/dist-packages/huggingface_hub/utils/_auth.py:94: UserWarning: \n",
            "The secret `HF_TOKEN` does not exist in your Colab secrets.\n",
            "To authenticate with the Hugging Face Hub, create a token in your settings tab (https://huggingface.co/settings/tokens), set it as secret in your Google Colab and restart your session.\n",
            "You will be able to reuse this secret in all of your notebooks.\n",
            "Please note that authentication is recommended but still optional to access public models or datasets.\n",
            "  warnings.warn(\n"
          ]
        },
        {
          "output_type": "display_data",
          "data": {
            "text/plain": [
              "tokenizer_config.json:   0%|          | 0.00/52.0 [00:00<?, ?B/s]"
            ],
            "application/vnd.jupyter.widget-view+json": {
              "version_major": 2,
              "version_minor": 0,
              "model_id": "fcba53cba3734948b4b4112bfcc4d8d4"
            }
          },
          "metadata": {}
        },
        {
          "output_type": "display_data",
          "data": {
            "text/plain": [
              "config.json:   0%|          | 0.00/579 [00:00<?, ?B/s]"
            ],
            "application/vnd.jupyter.widget-view+json": {
              "version_major": 2,
              "version_minor": 0,
              "model_id": "0c7014d5fd0f4a3f9552caf3acf7e667"
            }
          },
          "metadata": {}
        },
        {
          "output_type": "display_data",
          "data": {
            "text/plain": [
              "spm.model:   0%|          | 0.00/2.46M [00:00<?, ?B/s]"
            ],
            "application/vnd.jupyter.widget-view+json": {
              "version_major": 2,
              "version_minor": 0,
              "model_id": "219ae514338e49f4b7805fa98399c511"
            }
          },
          "metadata": {}
        },
        {
          "output_type": "stream",
          "name": "stderr",
          "text": [
            "/usr/local/lib/python3.11/dist-packages/transformers/convert_slow_tokenizer.py:559: UserWarning: The sentencepiece tokenizer that you are converting to a fast tokenizer uses the byte fallback option which is not implemented in the fast tokenizers. In practice this means that the fast version of the tokenizer can produce unknown tokens whereas the sentencepiece version would have converted these unknown tokens into a sequence of byte tokens matching the original piece of text.\n",
            "  warnings.warn(\n"
          ]
        },
        {
          "output_type": "stream",
          "name": "stdout",
          "text": [
            "✅ Labels encoded and tokenizer loaded.\n"
          ]
        }
      ],
      "source": [
        "from sklearn.preprocessing import LabelEncoder\n",
        "from transformers import AutoTokenizer\n",
        "\n",
        "# Encode labels (0 and 1 are fine, but this ensures consistency)\n",
        "label_encoder = LabelEncoder()\n",
        "train_labels = label_encoder.fit_transform(train_labels)\n",
        "test_labels = label_encoder.transform(test_labels)\n",
        "\n",
        "# Load DeBERTa tokenizer\n",
        "tokenizer = AutoTokenizer.from_pretrained(\"microsoft/deberta-v3-base\")\n",
        "\n",
        "print(\"✅ Labels encoded and tokenizer loaded.\")"
      ]
    },
    {
      "cell_type": "code",
      "execution_count": 16,
      "metadata": {
        "id": "wAHleK3UJlnn",
        "colab": {
          "base_uri": "https://localhost:8080/"
        },
        "outputId": "0ca854ce-9ff2-4760-e330-eb9beefe0a94"
      },
      "outputs": [
        {
          "output_type": "stream",
          "name": "stdout",
          "text": [
            "✅ Texts tokenized.\n"
          ]
        }
      ],
      "source": [
        "# Tokenize the training and test texts\n",
        "train_encodings = tokenizer(\n",
        "    list(train_texts),\n",
        "    truncation=True,\n",
        "    padding=True,\n",
        "    max_length=128,\n",
        "    return_tensors='pt'\n",
        ")\n",
        "\n",
        "test_encodings = tokenizer(\n",
        "    list(test_texts),\n",
        "    truncation=True,\n",
        "    padding=True,\n",
        "    max_length=128,\n",
        "    return_tensors='pt'\n",
        ")\n",
        "\n",
        "print(\"✅ Texts tokenized.\")"
      ]
    },
    {
      "cell_type": "code",
      "execution_count": 17,
      "metadata": {
        "id": "zCY2MEv6Jlve",
        "colab": {
          "base_uri": "https://localhost:8080/"
        },
        "outputId": "e09eb03b-aa52-4ac0-e528-a5d158a4256e"
      },
      "outputs": [
        {
          "output_type": "stream",
          "name": "stdout",
          "text": [
            "✅ PyTorch Datasets ready.\n"
          ]
        }
      ],
      "source": [
        "import torch\n",
        "from torch.utils.data import Dataset\n",
        "\n",
        "# Create a PyTorch dataset\n",
        "class FakeNewsDataset(Dataset):\n",
        "    def __init__(self, encodings, labels):\n",
        "        self.encodings = encodings\n",
        "        self.labels = labels\n",
        "\n",
        "    def __len__(self):\n",
        "        return len(self.labels)\n",
        "\n",
        "    def __getitem__(self, idx):\n",
        "        item = {key: val[idx] for key, val in self.encodings.items()}\n",
        "        item[\"labels\"] = torch.tensor(self.labels[idx])\n",
        "        return item\n",
        "\n",
        "# Wrap train and test datasets\n",
        "train_dataset = FakeNewsDataset(train_encodings, train_labels)\n",
        "test_dataset = FakeNewsDataset(test_encodings, test_labels)\n",
        "\n",
        "print(\"✅ PyTorch Datasets ready.\")\n"
      ]
    },
    {
      "cell_type": "code",
      "execution_count": 18,
      "metadata": {
        "id": "_-YjLepwKOA-",
        "colab": {
          "base_uri": "https://localhost:8080/"
        },
        "outputId": "5bab65cf-2eb4-47e3-ea16-e8dd57767484"
      },
      "outputs": [
        {
          "output_type": "stream",
          "name": "stdout",
          "text": [
            "✅ DataLoaders created.\n"
          ]
        }
      ],
      "source": [
        "from torch.utils.data import DataLoader\n",
        "\n",
        "# Set batch size\n",
        "batch_size = 2  # Small to avoid memory issues in free Colab\n",
        "\n",
        "# Create DataLoaders\n",
        "train_dataloader = DataLoader(train_dataset, batch_size=batch_size, shuffle=True)\n",
        "test_dataloader = DataLoader(test_dataset, batch_size=batch_size)\n",
        "\n",
        "print(\"✅ DataLoaders created.\")"
      ]
    },
    {
      "cell_type": "code",
      "execution_count": 19,
      "metadata": {
        "id": "CFWweCBQKOKi",
        "colab": {
          "base_uri": "https://localhost:8080/",
          "height": 153,
          "referenced_widgets": [
            "c423feab86854ecd87dca458f4d78d2c",
            "f4888f67dcd240d299d2bcdf7222d044",
            "2652d43027db49a0b661d32683685bb1",
            "b5a1be21197949d18561b00156fe4e4b",
            "0a61b689815b4b1aba759ad0c527a79d",
            "ff8e306587b94a7eaceb20e427702a17",
            "9d4c4333c20f4b1cb6af64d5e9f1f493",
            "10f2dd9978514d2f885ca783bd64d65c",
            "a24526d2c29040398b1b5270d11817fb",
            "f819ccff88424842be1261d8d47871f7",
            "6b0cc2bf894f4f30826582af5337d4bd",
            "ee7337b52e514de19bc094255a51eb2a",
            "747482a6967b45ba8c6048a883672bab",
            "6233f939bd90445bb3422d5e8441436c",
            "8c10617474704d4194306f586fe3c3eb",
            "f21f1894770d41eb8978d76cce41f81f",
            "3b60f9c9684a40c486d25a5d47611615",
            "6438938af06846619c06cbd7e01f5935",
            "11033b67ab5d41929c9f10cf9d2617a1",
            "881600798c12400f97d66043516559e8",
            "0a84109d60094e3dac24a7b3e8cfd46b",
            "127e607d33d1407f9e0f54eff8698acd"
          ]
        },
        "outputId": "29def08d-e306-4010-dc81-e1ebb6e4ae0b"
      },
      "outputs": [
        {
          "output_type": "display_data",
          "data": {
            "text/plain": [
              "pytorch_model.bin:   0%|          | 0.00/371M [00:00<?, ?B/s]"
            ],
            "application/vnd.jupyter.widget-view+json": {
              "version_major": 2,
              "version_minor": 0,
              "model_id": "c423feab86854ecd87dca458f4d78d2c"
            }
          },
          "metadata": {}
        },
        {
          "output_type": "display_data",
          "data": {
            "text/plain": [
              "model.safetensors:   0%|          | 0.00/371M [00:00<?, ?B/s]"
            ],
            "application/vnd.jupyter.widget-view+json": {
              "version_major": 2,
              "version_minor": 0,
              "model_id": "ee7337b52e514de19bc094255a51eb2a"
            }
          },
          "metadata": {}
        },
        {
          "output_type": "stream",
          "name": "stderr",
          "text": [
            "Some weights of DebertaV2ForSequenceClassification were not initialized from the model checkpoint at microsoft/deberta-v3-base and are newly initialized: ['classifier.bias', 'classifier.weight', 'pooler.dense.bias', 'pooler.dense.weight']\n",
            "You should probably TRAIN this model on a down-stream task to be able to use it for predictions and inference.\n"
          ]
        },
        {
          "output_type": "stream",
          "name": "stdout",
          "text": [
            "✅ Model loaded and moved to device: cpu\n"
          ]
        }
      ],
      "source": [
        "from transformers import AutoModelForSequenceClassification\n",
        "\n",
        "# Load DeBERTa-v3-base model with 2 output labels\n",
        "model = AutoModelForSequenceClassification.from_pretrained(\n",
        "    \"microsoft/deberta-v3-base\",\n",
        "    num_labels=2\n",
        ")\n",
        "\n",
        "# Move model to device (GPU if available)\n",
        "device = torch.device(\"cuda\") if torch.cuda.is_available() else torch.device(\"cpu\")\n",
        "model.to(device)\n",
        "\n",
        "print(f\"✅ Model loaded and moved to device: {device}\")"
      ]
    },
    {
      "cell_type": "code",
      "execution_count": 20,
      "metadata": {
        "id": "cxiqtjUjKOV-",
        "colab": {
          "base_uri": "https://localhost:8080/"
        },
        "outputId": "067181b2-e898-4c68-8426-d928d3d23c1e"
      },
      "outputs": [
        {
          "output_type": "stream",
          "name": "stdout",
          "text": [
            "✅ Optimizer and Loss Function set up.\n"
          ]
        }
      ],
      "source": [
        "import torch.optim as optim\n",
        "import torch.nn as nn\n",
        "\n",
        "# Optimizer (use AdamW from torch)\n",
        "optimizer = optim.AdamW(model.parameters(), lr=2e-5)\n",
        "\n",
        "# Loss function\n",
        "loss_fn = nn.CrossEntropyLoss()\n",
        "\n",
        "print(\"✅ Optimizer and Loss Function set up.\")"
      ]
    },
    {
      "cell_type": "code",
      "execution_count": 21,
      "metadata": {
        "id": "hztpbyPqKY-t"
      },
      "outputs": [],
      "source": [
        "def train_model(model, train_dataloader, optimizer, loss_fn, device, epochs=2):\n",
        "    model.train()\n",
        "    history = {'loss': [], 'accuracy': []}\n",
        "\n",
        "    for epoch in range(epochs):\n",
        "        total_loss = 0\n",
        "        correct = 0\n",
        "        total = 0\n",
        "\n",
        "        print(f\"\\n🚀 Epoch {epoch + 1}/{epochs} Training...\")\n",
        "\n",
        "        for batch in train_dataloader:\n",
        "            # Move inputs to device\n",
        "            input_ids = batch['input_ids'].to(device)\n",
        "            attention_mask = batch['attention_mask'].to(device)\n",
        "            labels = batch['labels'].to(device)\n",
        "\n",
        "            # Forward pass\n",
        "            outputs = model(input_ids=input_ids, attention_mask=attention_mask)\n",
        "            logits = outputs.logits\n",
        "\n",
        "            # Compute loss\n",
        "            loss = loss_fn(logits, labels)\n",
        "            total_loss += loss.item()\n",
        "\n",
        "            # Backpropagation\n",
        "            optimizer.zero_grad()\n",
        "            loss.backward()\n",
        "            optimizer.step()\n",
        "\n",
        "            # Accuracy\n",
        "            preds = torch.argmax(logits, dim=1)\n",
        "            correct += (preds == labels).sum().item()\n",
        "            total += labels.size(0)\n",
        "\n",
        "        avg_loss = total_loss / len(train_dataloader)\n",
        "        accuracy = correct / total * 100\n",
        "\n",
        "        history['loss'].append(avg_loss)\n",
        "        history['accuracy'].append(accuracy)\n",
        "\n",
        "        print(f\"📊 Epoch {epoch + 1}: Loss = {avg_loss:.4f}, Accuracy = {accuracy:.2f}%\")\n",
        "\n",
        "    return history\n"
      ]
    },
    {
      "cell_type": "code",
      "source": [
        "import gc\n",
        "gc.collect()\n",
        "torch.cuda.empty_cache()\n"
      ],
      "metadata": {
        "id": "esIIbb9_F8s0"
      },
      "execution_count": 22,
      "outputs": []
    },
    {
      "cell_type": "code",
      "source": [
        "history = train_model(model, train_dataloader, optimizer, loss_fn, device, epochs=1)\n",
        "\n"
      ],
      "metadata": {
        "colab": {
          "base_uri": "https://localhost:8080/",
          "height": 52
        },
        "id": "mU-CkVSpAath",
        "outputId": "4c34737d-7baf-4ba6-c9e5-46e75faa1237"
      },
      "execution_count": null,
      "outputs": [
        {
          "output_type": "stream",
          "name": "stdout",
          "text": [
            "\n",
            "🚀 Epoch 1/1 Training...\n"
          ]
        }
      ]
    },
    {
      "cell_type": "code",
      "source": [
        "import matplotlib.pyplot as plt\n",
        "\n",
        "# Plot accuracy\n",
        "plt.figure(figsize=(12, 5))\n",
        "\n",
        "plt.subplot(1, 2, 1)\n",
        "plt.plot(history['accuracy'], marker='o')\n",
        "plt.title('Training Accuracy')\n",
        "plt.xlabel('Epoch')\n",
        "plt.ylabel('Accuracy (%)')\n",
        "\n",
        "# Plot loss\n",
        "plt.subplot(1, 2, 2)\n",
        "plt.plot(history['loss'], marker='o', color='orange')\n",
        "plt.title('Training Loss')\n",
        "plt.xlabel('Epoch')\n",
        "plt.ylabel('Loss')\n",
        "\n",
        "plt.tight_layout()\n",
        "plt.show()\n"
      ],
      "metadata": {
        "id": "GgfT53w5_mCh"
      },
      "execution_count": null,
      "outputs": []
    }
  ],
  "metadata": {
    "colab": {
      "provenance": [],
      "authorship_tag": "ABX9TyNo/XtMXcj7Y3JyS3I8NQBv",
      "include_colab_link": true
    },
    "kernelspec": {
      "display_name": "Python 3",
      "name": "python3"
    },
    "language_info": {
      "name": "python"
    },
    "widgets": {
      "application/vnd.jupyter.widget-state+json": {
        "fcba53cba3734948b4b4112bfcc4d8d4": {
          "model_module": "@jupyter-widgets/controls",
          "model_name": "HBoxModel",
          "model_module_version": "1.5.0",
          "state": {
            "_dom_classes": [],
            "_model_module": "@jupyter-widgets/controls",
            "_model_module_version": "1.5.0",
            "_model_name": "HBoxModel",
            "_view_count": null,
            "_view_module": "@jupyter-widgets/controls",
            "_view_module_version": "1.5.0",
            "_view_name": "HBoxView",
            "box_style": "",
            "children": [
              "IPY_MODEL_b36720d25d5049648a723c7e8313beb5",
              "IPY_MODEL_938149e5335943df93daea9a393d4779",
              "IPY_MODEL_733473248b7742a89d51d24969c6fd51"
            ],
            "layout": "IPY_MODEL_1f21fbc6d02449d1b96e01164de09348"
          }
        },
        "b36720d25d5049648a723c7e8313beb5": {
          "model_module": "@jupyter-widgets/controls",
          "model_name": "HTMLModel",
          "model_module_version": "1.5.0",
          "state": {
            "_dom_classes": [],
            "_model_module": "@jupyter-widgets/controls",
            "_model_module_version": "1.5.0",
            "_model_name": "HTMLModel",
            "_view_count": null,
            "_view_module": "@jupyter-widgets/controls",
            "_view_module_version": "1.5.0",
            "_view_name": "HTMLView",
            "description": "",
            "description_tooltip": null,
            "layout": "IPY_MODEL_66140d3a0edb4c9aa4177c24e27846eb",
            "placeholder": "​",
            "style": "IPY_MODEL_6a98fcd4b21e4f7abd790f70bbe94d47",
            "value": "tokenizer_config.json: 100%"
          }
        },
        "938149e5335943df93daea9a393d4779": {
          "model_module": "@jupyter-widgets/controls",
          "model_name": "FloatProgressModel",
          "model_module_version": "1.5.0",
          "state": {
            "_dom_classes": [],
            "_model_module": "@jupyter-widgets/controls",
            "_model_module_version": "1.5.0",
            "_model_name": "FloatProgressModel",
            "_view_count": null,
            "_view_module": "@jupyter-widgets/controls",
            "_view_module_version": "1.5.0",
            "_view_name": "ProgressView",
            "bar_style": "success",
            "description": "",
            "description_tooltip": null,
            "layout": "IPY_MODEL_28da2be99ed34ce4bee971217c71bd00",
            "max": 52,
            "min": 0,
            "orientation": "horizontal",
            "style": "IPY_MODEL_e020b0986a4a4f18abc00bb4f16cd445",
            "value": 52
          }
        },
        "733473248b7742a89d51d24969c6fd51": {
          "model_module": "@jupyter-widgets/controls",
          "model_name": "HTMLModel",
          "model_module_version": "1.5.0",
          "state": {
            "_dom_classes": [],
            "_model_module": "@jupyter-widgets/controls",
            "_model_module_version": "1.5.0",
            "_model_name": "HTMLModel",
            "_view_count": null,
            "_view_module": "@jupyter-widgets/controls",
            "_view_module_version": "1.5.0",
            "_view_name": "HTMLView",
            "description": "",
            "description_tooltip": null,
            "layout": "IPY_MODEL_4e1794e8c3ee4bdfad121441a681ecd7",
            "placeholder": "​",
            "style": "IPY_MODEL_9528e64f93754a7fa87ff0be4cfac42c",
            "value": " 52.0/52.0 [00:00&lt;00:00, 3.22kB/s]"
          }
        },
        "1f21fbc6d02449d1b96e01164de09348": {
          "model_module": "@jupyter-widgets/base",
          "model_name": "LayoutModel",
          "model_module_version": "1.2.0",
          "state": {
            "_model_module": "@jupyter-widgets/base",
            "_model_module_version": "1.2.0",
            "_model_name": "LayoutModel",
            "_view_count": null,
            "_view_module": "@jupyter-widgets/base",
            "_view_module_version": "1.2.0",
            "_view_name": "LayoutView",
            "align_content": null,
            "align_items": null,
            "align_self": null,
            "border": null,
            "bottom": null,
            "display": null,
            "flex": null,
            "flex_flow": null,
            "grid_area": null,
            "grid_auto_columns": null,
            "grid_auto_flow": null,
            "grid_auto_rows": null,
            "grid_column": null,
            "grid_gap": null,
            "grid_row": null,
            "grid_template_areas": null,
            "grid_template_columns": null,
            "grid_template_rows": null,
            "height": null,
            "justify_content": null,
            "justify_items": null,
            "left": null,
            "margin": null,
            "max_height": null,
            "max_width": null,
            "min_height": null,
            "min_width": null,
            "object_fit": null,
            "object_position": null,
            "order": null,
            "overflow": null,
            "overflow_x": null,
            "overflow_y": null,
            "padding": null,
            "right": null,
            "top": null,
            "visibility": null,
            "width": null
          }
        },
        "66140d3a0edb4c9aa4177c24e27846eb": {
          "model_module": "@jupyter-widgets/base",
          "model_name": "LayoutModel",
          "model_module_version": "1.2.0",
          "state": {
            "_model_module": "@jupyter-widgets/base",
            "_model_module_version": "1.2.0",
            "_model_name": "LayoutModel",
            "_view_count": null,
            "_view_module": "@jupyter-widgets/base",
            "_view_module_version": "1.2.0",
            "_view_name": "LayoutView",
            "align_content": null,
            "align_items": null,
            "align_self": null,
            "border": null,
            "bottom": null,
            "display": null,
            "flex": null,
            "flex_flow": null,
            "grid_area": null,
            "grid_auto_columns": null,
            "grid_auto_flow": null,
            "grid_auto_rows": null,
            "grid_column": null,
            "grid_gap": null,
            "grid_row": null,
            "grid_template_areas": null,
            "grid_template_columns": null,
            "grid_template_rows": null,
            "height": null,
            "justify_content": null,
            "justify_items": null,
            "left": null,
            "margin": null,
            "max_height": null,
            "max_width": null,
            "min_height": null,
            "min_width": null,
            "object_fit": null,
            "object_position": null,
            "order": null,
            "overflow": null,
            "overflow_x": null,
            "overflow_y": null,
            "padding": null,
            "right": null,
            "top": null,
            "visibility": null,
            "width": null
          }
        },
        "6a98fcd4b21e4f7abd790f70bbe94d47": {
          "model_module": "@jupyter-widgets/controls",
          "model_name": "DescriptionStyleModel",
          "model_module_version": "1.5.0",
          "state": {
            "_model_module": "@jupyter-widgets/controls",
            "_model_module_version": "1.5.0",
            "_model_name": "DescriptionStyleModel",
            "_view_count": null,
            "_view_module": "@jupyter-widgets/base",
            "_view_module_version": "1.2.0",
            "_view_name": "StyleView",
            "description_width": ""
          }
        },
        "28da2be99ed34ce4bee971217c71bd00": {
          "model_module": "@jupyter-widgets/base",
          "model_name": "LayoutModel",
          "model_module_version": "1.2.0",
          "state": {
            "_model_module": "@jupyter-widgets/base",
            "_model_module_version": "1.2.0",
            "_model_name": "LayoutModel",
            "_view_count": null,
            "_view_module": "@jupyter-widgets/base",
            "_view_module_version": "1.2.0",
            "_view_name": "LayoutView",
            "align_content": null,
            "align_items": null,
            "align_self": null,
            "border": null,
            "bottom": null,
            "display": null,
            "flex": null,
            "flex_flow": null,
            "grid_area": null,
            "grid_auto_columns": null,
            "grid_auto_flow": null,
            "grid_auto_rows": null,
            "grid_column": null,
            "grid_gap": null,
            "grid_row": null,
            "grid_template_areas": null,
            "grid_template_columns": null,
            "grid_template_rows": null,
            "height": null,
            "justify_content": null,
            "justify_items": null,
            "left": null,
            "margin": null,
            "max_height": null,
            "max_width": null,
            "min_height": null,
            "min_width": null,
            "object_fit": null,
            "object_position": null,
            "order": null,
            "overflow": null,
            "overflow_x": null,
            "overflow_y": null,
            "padding": null,
            "right": null,
            "top": null,
            "visibility": null,
            "width": null
          }
        },
        "e020b0986a4a4f18abc00bb4f16cd445": {
          "model_module": "@jupyter-widgets/controls",
          "model_name": "ProgressStyleModel",
          "model_module_version": "1.5.0",
          "state": {
            "_model_module": "@jupyter-widgets/controls",
            "_model_module_version": "1.5.0",
            "_model_name": "ProgressStyleModel",
            "_view_count": null,
            "_view_module": "@jupyter-widgets/base",
            "_view_module_version": "1.2.0",
            "_view_name": "StyleView",
            "bar_color": null,
            "description_width": ""
          }
        },
        "4e1794e8c3ee4bdfad121441a681ecd7": {
          "model_module": "@jupyter-widgets/base",
          "model_name": "LayoutModel",
          "model_module_version": "1.2.0",
          "state": {
            "_model_module": "@jupyter-widgets/base",
            "_model_module_version": "1.2.0",
            "_model_name": "LayoutModel",
            "_view_count": null,
            "_view_module": "@jupyter-widgets/base",
            "_view_module_version": "1.2.0",
            "_view_name": "LayoutView",
            "align_content": null,
            "align_items": null,
            "align_self": null,
            "border": null,
            "bottom": null,
            "display": null,
            "flex": null,
            "flex_flow": null,
            "grid_area": null,
            "grid_auto_columns": null,
            "grid_auto_flow": null,
            "grid_auto_rows": null,
            "grid_column": null,
            "grid_gap": null,
            "grid_row": null,
            "grid_template_areas": null,
            "grid_template_columns": null,
            "grid_template_rows": null,
            "height": null,
            "justify_content": null,
            "justify_items": null,
            "left": null,
            "margin": null,
            "max_height": null,
            "max_width": null,
            "min_height": null,
            "min_width": null,
            "object_fit": null,
            "object_position": null,
            "order": null,
            "overflow": null,
            "overflow_x": null,
            "overflow_y": null,
            "padding": null,
            "right": null,
            "top": null,
            "visibility": null,
            "width": null
          }
        },
        "9528e64f93754a7fa87ff0be4cfac42c": {
          "model_module": "@jupyter-widgets/controls",
          "model_name": "DescriptionStyleModel",
          "model_module_version": "1.5.0",
          "state": {
            "_model_module": "@jupyter-widgets/controls",
            "_model_module_version": "1.5.0",
            "_model_name": "DescriptionStyleModel",
            "_view_count": null,
            "_view_module": "@jupyter-widgets/base",
            "_view_module_version": "1.2.0",
            "_view_name": "StyleView",
            "description_width": ""
          }
        },
        "0c7014d5fd0f4a3f9552caf3acf7e667": {
          "model_module": "@jupyter-widgets/controls",
          "model_name": "HBoxModel",
          "model_module_version": "1.5.0",
          "state": {
            "_dom_classes": [],
            "_model_module": "@jupyter-widgets/controls",
            "_model_module_version": "1.5.0",
            "_model_name": "HBoxModel",
            "_view_count": null,
            "_view_module": "@jupyter-widgets/controls",
            "_view_module_version": "1.5.0",
            "_view_name": "HBoxView",
            "box_style": "",
            "children": [
              "IPY_MODEL_4be87af6414847cc90abf2282b45fe8f",
              "IPY_MODEL_b823b66cee714c8da81654dff3d6da7c",
              "IPY_MODEL_969b67ee24624d07ac72f22fbafef7ef"
            ],
            "layout": "IPY_MODEL_88d98e5442d04b8eb3d6c47cd49ee75c"
          }
        },
        "4be87af6414847cc90abf2282b45fe8f": {
          "model_module": "@jupyter-widgets/controls",
          "model_name": "HTMLModel",
          "model_module_version": "1.5.0",
          "state": {
            "_dom_classes": [],
            "_model_module": "@jupyter-widgets/controls",
            "_model_module_version": "1.5.0",
            "_model_name": "HTMLModel",
            "_view_count": null,
            "_view_module": "@jupyter-widgets/controls",
            "_view_module_version": "1.5.0",
            "_view_name": "HTMLView",
            "description": "",
            "description_tooltip": null,
            "layout": "IPY_MODEL_a630c4a90cd64bf29631729443331960",
            "placeholder": "​",
            "style": "IPY_MODEL_313f9810fa6b4b3d9df19862d739aba1",
            "value": "config.json: 100%"
          }
        },
        "b823b66cee714c8da81654dff3d6da7c": {
          "model_module": "@jupyter-widgets/controls",
          "model_name": "FloatProgressModel",
          "model_module_version": "1.5.0",
          "state": {
            "_dom_classes": [],
            "_model_module": "@jupyter-widgets/controls",
            "_model_module_version": "1.5.0",
            "_model_name": "FloatProgressModel",
            "_view_count": null,
            "_view_module": "@jupyter-widgets/controls",
            "_view_module_version": "1.5.0",
            "_view_name": "ProgressView",
            "bar_style": "success",
            "description": "",
            "description_tooltip": null,
            "layout": "IPY_MODEL_048f4fad07c84b429149391bd9b641be",
            "max": 579,
            "min": 0,
            "orientation": "horizontal",
            "style": "IPY_MODEL_835ce6ae9a61454988008f78af31b915",
            "value": 579
          }
        },
        "969b67ee24624d07ac72f22fbafef7ef": {
          "model_module": "@jupyter-widgets/controls",
          "model_name": "HTMLModel",
          "model_module_version": "1.5.0",
          "state": {
            "_dom_classes": [],
            "_model_module": "@jupyter-widgets/controls",
            "_model_module_version": "1.5.0",
            "_model_name": "HTMLModel",
            "_view_count": null,
            "_view_module": "@jupyter-widgets/controls",
            "_view_module_version": "1.5.0",
            "_view_name": "HTMLView",
            "description": "",
            "description_tooltip": null,
            "layout": "IPY_MODEL_64fc47e0d63845e69739701ba65e3c2f",
            "placeholder": "​",
            "style": "IPY_MODEL_dfa759e3d1164b62ab46549c092570fb",
            "value": " 579/579 [00:00&lt;00:00, 32.4kB/s]"
          }
        },
        "88d98e5442d04b8eb3d6c47cd49ee75c": {
          "model_module": "@jupyter-widgets/base",
          "model_name": "LayoutModel",
          "model_module_version": "1.2.0",
          "state": {
            "_model_module": "@jupyter-widgets/base",
            "_model_module_version": "1.2.0",
            "_model_name": "LayoutModel",
            "_view_count": null,
            "_view_module": "@jupyter-widgets/base",
            "_view_module_version": "1.2.0",
            "_view_name": "LayoutView",
            "align_content": null,
            "align_items": null,
            "align_self": null,
            "border": null,
            "bottom": null,
            "display": null,
            "flex": null,
            "flex_flow": null,
            "grid_area": null,
            "grid_auto_columns": null,
            "grid_auto_flow": null,
            "grid_auto_rows": null,
            "grid_column": null,
            "grid_gap": null,
            "grid_row": null,
            "grid_template_areas": null,
            "grid_template_columns": null,
            "grid_template_rows": null,
            "height": null,
            "justify_content": null,
            "justify_items": null,
            "left": null,
            "margin": null,
            "max_height": null,
            "max_width": null,
            "min_height": null,
            "min_width": null,
            "object_fit": null,
            "object_position": null,
            "order": null,
            "overflow": null,
            "overflow_x": null,
            "overflow_y": null,
            "padding": null,
            "right": null,
            "top": null,
            "visibility": null,
            "width": null
          }
        },
        "a630c4a90cd64bf29631729443331960": {
          "model_module": "@jupyter-widgets/base",
          "model_name": "LayoutModel",
          "model_module_version": "1.2.0",
          "state": {
            "_model_module": "@jupyter-widgets/base",
            "_model_module_version": "1.2.0",
            "_model_name": "LayoutModel",
            "_view_count": null,
            "_view_module": "@jupyter-widgets/base",
            "_view_module_version": "1.2.0",
            "_view_name": "LayoutView",
            "align_content": null,
            "align_items": null,
            "align_self": null,
            "border": null,
            "bottom": null,
            "display": null,
            "flex": null,
            "flex_flow": null,
            "grid_area": null,
            "grid_auto_columns": null,
            "grid_auto_flow": null,
            "grid_auto_rows": null,
            "grid_column": null,
            "grid_gap": null,
            "grid_row": null,
            "grid_template_areas": null,
            "grid_template_columns": null,
            "grid_template_rows": null,
            "height": null,
            "justify_content": null,
            "justify_items": null,
            "left": null,
            "margin": null,
            "max_height": null,
            "max_width": null,
            "min_height": null,
            "min_width": null,
            "object_fit": null,
            "object_position": null,
            "order": null,
            "overflow": null,
            "overflow_x": null,
            "overflow_y": null,
            "padding": null,
            "right": null,
            "top": null,
            "visibility": null,
            "width": null
          }
        },
        "313f9810fa6b4b3d9df19862d739aba1": {
          "model_module": "@jupyter-widgets/controls",
          "model_name": "DescriptionStyleModel",
          "model_module_version": "1.5.0",
          "state": {
            "_model_module": "@jupyter-widgets/controls",
            "_model_module_version": "1.5.0",
            "_model_name": "DescriptionStyleModel",
            "_view_count": null,
            "_view_module": "@jupyter-widgets/base",
            "_view_module_version": "1.2.0",
            "_view_name": "StyleView",
            "description_width": ""
          }
        },
        "048f4fad07c84b429149391bd9b641be": {
          "model_module": "@jupyter-widgets/base",
          "model_name": "LayoutModel",
          "model_module_version": "1.2.0",
          "state": {
            "_model_module": "@jupyter-widgets/base",
            "_model_module_version": "1.2.0",
            "_model_name": "LayoutModel",
            "_view_count": null,
            "_view_module": "@jupyter-widgets/base",
            "_view_module_version": "1.2.0",
            "_view_name": "LayoutView",
            "align_content": null,
            "align_items": null,
            "align_self": null,
            "border": null,
            "bottom": null,
            "display": null,
            "flex": null,
            "flex_flow": null,
            "grid_area": null,
            "grid_auto_columns": null,
            "grid_auto_flow": null,
            "grid_auto_rows": null,
            "grid_column": null,
            "grid_gap": null,
            "grid_row": null,
            "grid_template_areas": null,
            "grid_template_columns": null,
            "grid_template_rows": null,
            "height": null,
            "justify_content": null,
            "justify_items": null,
            "left": null,
            "margin": null,
            "max_height": null,
            "max_width": null,
            "min_height": null,
            "min_width": null,
            "object_fit": null,
            "object_position": null,
            "order": null,
            "overflow": null,
            "overflow_x": null,
            "overflow_y": null,
            "padding": null,
            "right": null,
            "top": null,
            "visibility": null,
            "width": null
          }
        },
        "835ce6ae9a61454988008f78af31b915": {
          "model_module": "@jupyter-widgets/controls",
          "model_name": "ProgressStyleModel",
          "model_module_version": "1.5.0",
          "state": {
            "_model_module": "@jupyter-widgets/controls",
            "_model_module_version": "1.5.0",
            "_model_name": "ProgressStyleModel",
            "_view_count": null,
            "_view_module": "@jupyter-widgets/base",
            "_view_module_version": "1.2.0",
            "_view_name": "StyleView",
            "bar_color": null,
            "description_width": ""
          }
        },
        "64fc47e0d63845e69739701ba65e3c2f": {
          "model_module": "@jupyter-widgets/base",
          "model_name": "LayoutModel",
          "model_module_version": "1.2.0",
          "state": {
            "_model_module": "@jupyter-widgets/base",
            "_model_module_version": "1.2.0",
            "_model_name": "LayoutModel",
            "_view_count": null,
            "_view_module": "@jupyter-widgets/base",
            "_view_module_version": "1.2.0",
            "_view_name": "LayoutView",
            "align_content": null,
            "align_items": null,
            "align_self": null,
            "border": null,
            "bottom": null,
            "display": null,
            "flex": null,
            "flex_flow": null,
            "grid_area": null,
            "grid_auto_columns": null,
            "grid_auto_flow": null,
            "grid_auto_rows": null,
            "grid_column": null,
            "grid_gap": null,
            "grid_row": null,
            "grid_template_areas": null,
            "grid_template_columns": null,
            "grid_template_rows": null,
            "height": null,
            "justify_content": null,
            "justify_items": null,
            "left": null,
            "margin": null,
            "max_height": null,
            "max_width": null,
            "min_height": null,
            "min_width": null,
            "object_fit": null,
            "object_position": null,
            "order": null,
            "overflow": null,
            "overflow_x": null,
            "overflow_y": null,
            "padding": null,
            "right": null,
            "top": null,
            "visibility": null,
            "width": null
          }
        },
        "dfa759e3d1164b62ab46549c092570fb": {
          "model_module": "@jupyter-widgets/controls",
          "model_name": "DescriptionStyleModel",
          "model_module_version": "1.5.0",
          "state": {
            "_model_module": "@jupyter-widgets/controls",
            "_model_module_version": "1.5.0",
            "_model_name": "DescriptionStyleModel",
            "_view_count": null,
            "_view_module": "@jupyter-widgets/base",
            "_view_module_version": "1.2.0",
            "_view_name": "StyleView",
            "description_width": ""
          }
        },
        "219ae514338e49f4b7805fa98399c511": {
          "model_module": "@jupyter-widgets/controls",
          "model_name": "HBoxModel",
          "model_module_version": "1.5.0",
          "state": {
            "_dom_classes": [],
            "_model_module": "@jupyter-widgets/controls",
            "_model_module_version": "1.5.0",
            "_model_name": "HBoxModel",
            "_view_count": null,
            "_view_module": "@jupyter-widgets/controls",
            "_view_module_version": "1.5.0",
            "_view_name": "HBoxView",
            "box_style": "",
            "children": [
              "IPY_MODEL_7dd1aedc40cb42019f101c430184bb0f",
              "IPY_MODEL_113f538e200e4a2cb85010eda535b230",
              "IPY_MODEL_9340a4be31ff4e53bab79f6aa9e20658"
            ],
            "layout": "IPY_MODEL_a8135bbc69ae4ac688784e303728bb90"
          }
        },
        "7dd1aedc40cb42019f101c430184bb0f": {
          "model_module": "@jupyter-widgets/controls",
          "model_name": "HTMLModel",
          "model_module_version": "1.5.0",
          "state": {
            "_dom_classes": [],
            "_model_module": "@jupyter-widgets/controls",
            "_model_module_version": "1.5.0",
            "_model_name": "HTMLModel",
            "_view_count": null,
            "_view_module": "@jupyter-widgets/controls",
            "_view_module_version": "1.5.0",
            "_view_name": "HTMLView",
            "description": "",
            "description_tooltip": null,
            "layout": "IPY_MODEL_3b0580ebc0894f7ea8261f4ba00c1dd6",
            "placeholder": "​",
            "style": "IPY_MODEL_00fed49df1c9446e95fa24088ac8c36e",
            "value": "spm.model: 100%"
          }
        },
        "113f538e200e4a2cb85010eda535b230": {
          "model_module": "@jupyter-widgets/controls",
          "model_name": "FloatProgressModel",
          "model_module_version": "1.5.0",
          "state": {
            "_dom_classes": [],
            "_model_module": "@jupyter-widgets/controls",
            "_model_module_version": "1.5.0",
            "_model_name": "FloatProgressModel",
            "_view_count": null,
            "_view_module": "@jupyter-widgets/controls",
            "_view_module_version": "1.5.0",
            "_view_name": "ProgressView",
            "bar_style": "success",
            "description": "",
            "description_tooltip": null,
            "layout": "IPY_MODEL_b0631ee061e74e009140349692873852",
            "max": 2464616,
            "min": 0,
            "orientation": "horizontal",
            "style": "IPY_MODEL_0e6d246cba9a43ccbf05d2c68748e009",
            "value": 2464616
          }
        },
        "9340a4be31ff4e53bab79f6aa9e20658": {
          "model_module": "@jupyter-widgets/controls",
          "model_name": "HTMLModel",
          "model_module_version": "1.5.0",
          "state": {
            "_dom_classes": [],
            "_model_module": "@jupyter-widgets/controls",
            "_model_module_version": "1.5.0",
            "_model_name": "HTMLModel",
            "_view_count": null,
            "_view_module": "@jupyter-widgets/controls",
            "_view_module_version": "1.5.0",
            "_view_name": "HTMLView",
            "description": "",
            "description_tooltip": null,
            "layout": "IPY_MODEL_6e7ed9addc574826986f8eb45c7701b9",
            "placeholder": "​",
            "style": "IPY_MODEL_9b563b4a533c46489253b860703ae85e",
            "value": " 2.46M/2.46M [00:00&lt;00:00, 22.2MB/s]"
          }
        },
        "a8135bbc69ae4ac688784e303728bb90": {
          "model_module": "@jupyter-widgets/base",
          "model_name": "LayoutModel",
          "model_module_version": "1.2.0",
          "state": {
            "_model_module": "@jupyter-widgets/base",
            "_model_module_version": "1.2.0",
            "_model_name": "LayoutModel",
            "_view_count": null,
            "_view_module": "@jupyter-widgets/base",
            "_view_module_version": "1.2.0",
            "_view_name": "LayoutView",
            "align_content": null,
            "align_items": null,
            "align_self": null,
            "border": null,
            "bottom": null,
            "display": null,
            "flex": null,
            "flex_flow": null,
            "grid_area": null,
            "grid_auto_columns": null,
            "grid_auto_flow": null,
            "grid_auto_rows": null,
            "grid_column": null,
            "grid_gap": null,
            "grid_row": null,
            "grid_template_areas": null,
            "grid_template_columns": null,
            "grid_template_rows": null,
            "height": null,
            "justify_content": null,
            "justify_items": null,
            "left": null,
            "margin": null,
            "max_height": null,
            "max_width": null,
            "min_height": null,
            "min_width": null,
            "object_fit": null,
            "object_position": null,
            "order": null,
            "overflow": null,
            "overflow_x": null,
            "overflow_y": null,
            "padding": null,
            "right": null,
            "top": null,
            "visibility": null,
            "width": null
          }
        },
        "3b0580ebc0894f7ea8261f4ba00c1dd6": {
          "model_module": "@jupyter-widgets/base",
          "model_name": "LayoutModel",
          "model_module_version": "1.2.0",
          "state": {
            "_model_module": "@jupyter-widgets/base",
            "_model_module_version": "1.2.0",
            "_model_name": "LayoutModel",
            "_view_count": null,
            "_view_module": "@jupyter-widgets/base",
            "_view_module_version": "1.2.0",
            "_view_name": "LayoutView",
            "align_content": null,
            "align_items": null,
            "align_self": null,
            "border": null,
            "bottom": null,
            "display": null,
            "flex": null,
            "flex_flow": null,
            "grid_area": null,
            "grid_auto_columns": null,
            "grid_auto_flow": null,
            "grid_auto_rows": null,
            "grid_column": null,
            "grid_gap": null,
            "grid_row": null,
            "grid_template_areas": null,
            "grid_template_columns": null,
            "grid_template_rows": null,
            "height": null,
            "justify_content": null,
            "justify_items": null,
            "left": null,
            "margin": null,
            "max_height": null,
            "max_width": null,
            "min_height": null,
            "min_width": null,
            "object_fit": null,
            "object_position": null,
            "order": null,
            "overflow": null,
            "overflow_x": null,
            "overflow_y": null,
            "padding": null,
            "right": null,
            "top": null,
            "visibility": null,
            "width": null
          }
        },
        "00fed49df1c9446e95fa24088ac8c36e": {
          "model_module": "@jupyter-widgets/controls",
          "model_name": "DescriptionStyleModel",
          "model_module_version": "1.5.0",
          "state": {
            "_model_module": "@jupyter-widgets/controls",
            "_model_module_version": "1.5.0",
            "_model_name": "DescriptionStyleModel",
            "_view_count": null,
            "_view_module": "@jupyter-widgets/base",
            "_view_module_version": "1.2.0",
            "_view_name": "StyleView",
            "description_width": ""
          }
        },
        "b0631ee061e74e009140349692873852": {
          "model_module": "@jupyter-widgets/base",
          "model_name": "LayoutModel",
          "model_module_version": "1.2.0",
          "state": {
            "_model_module": "@jupyter-widgets/base",
            "_model_module_version": "1.2.0",
            "_model_name": "LayoutModel",
            "_view_count": null,
            "_view_module": "@jupyter-widgets/base",
            "_view_module_version": "1.2.0",
            "_view_name": "LayoutView",
            "align_content": null,
            "align_items": null,
            "align_self": null,
            "border": null,
            "bottom": null,
            "display": null,
            "flex": null,
            "flex_flow": null,
            "grid_area": null,
            "grid_auto_columns": null,
            "grid_auto_flow": null,
            "grid_auto_rows": null,
            "grid_column": null,
            "grid_gap": null,
            "grid_row": null,
            "grid_template_areas": null,
            "grid_template_columns": null,
            "grid_template_rows": null,
            "height": null,
            "justify_content": null,
            "justify_items": null,
            "left": null,
            "margin": null,
            "max_height": null,
            "max_width": null,
            "min_height": null,
            "min_width": null,
            "object_fit": null,
            "object_position": null,
            "order": null,
            "overflow": null,
            "overflow_x": null,
            "overflow_y": null,
            "padding": null,
            "right": null,
            "top": null,
            "visibility": null,
            "width": null
          }
        },
        "0e6d246cba9a43ccbf05d2c68748e009": {
          "model_module": "@jupyter-widgets/controls",
          "model_name": "ProgressStyleModel",
          "model_module_version": "1.5.0",
          "state": {
            "_model_module": "@jupyter-widgets/controls",
            "_model_module_version": "1.5.0",
            "_model_name": "ProgressStyleModel",
            "_view_count": null,
            "_view_module": "@jupyter-widgets/base",
            "_view_module_version": "1.2.0",
            "_view_name": "StyleView",
            "bar_color": null,
            "description_width": ""
          }
        },
        "6e7ed9addc574826986f8eb45c7701b9": {
          "model_module": "@jupyter-widgets/base",
          "model_name": "LayoutModel",
          "model_module_version": "1.2.0",
          "state": {
            "_model_module": "@jupyter-widgets/base",
            "_model_module_version": "1.2.0",
            "_model_name": "LayoutModel",
            "_view_count": null,
            "_view_module": "@jupyter-widgets/base",
            "_view_module_version": "1.2.0",
            "_view_name": "LayoutView",
            "align_content": null,
            "align_items": null,
            "align_self": null,
            "border": null,
            "bottom": null,
            "display": null,
            "flex": null,
            "flex_flow": null,
            "grid_area": null,
            "grid_auto_columns": null,
            "grid_auto_flow": null,
            "grid_auto_rows": null,
            "grid_column": null,
            "grid_gap": null,
            "grid_row": null,
            "grid_template_areas": null,
            "grid_template_columns": null,
            "grid_template_rows": null,
            "height": null,
            "justify_content": null,
            "justify_items": null,
            "left": null,
            "margin": null,
            "max_height": null,
            "max_width": null,
            "min_height": null,
            "min_width": null,
            "object_fit": null,
            "object_position": null,
            "order": null,
            "overflow": null,
            "overflow_x": null,
            "overflow_y": null,
            "padding": null,
            "right": null,
            "top": null,
            "visibility": null,
            "width": null
          }
        },
        "9b563b4a533c46489253b860703ae85e": {
          "model_module": "@jupyter-widgets/controls",
          "model_name": "DescriptionStyleModel",
          "model_module_version": "1.5.0",
          "state": {
            "_model_module": "@jupyter-widgets/controls",
            "_model_module_version": "1.5.0",
            "_model_name": "DescriptionStyleModel",
            "_view_count": null,
            "_view_module": "@jupyter-widgets/base",
            "_view_module_version": "1.2.0",
            "_view_name": "StyleView",
            "description_width": ""
          }
        },
        "c423feab86854ecd87dca458f4d78d2c": {
          "model_module": "@jupyter-widgets/controls",
          "model_name": "HBoxModel",
          "model_module_version": "1.5.0",
          "state": {
            "_dom_classes": [],
            "_model_module": "@jupyter-widgets/controls",
            "_model_module_version": "1.5.0",
            "_model_name": "HBoxModel",
            "_view_count": null,
            "_view_module": "@jupyter-widgets/controls",
            "_view_module_version": "1.5.0",
            "_view_name": "HBoxView",
            "box_style": "",
            "children": [
              "IPY_MODEL_f4888f67dcd240d299d2bcdf7222d044",
              "IPY_MODEL_2652d43027db49a0b661d32683685bb1",
              "IPY_MODEL_b5a1be21197949d18561b00156fe4e4b"
            ],
            "layout": "IPY_MODEL_0a61b689815b4b1aba759ad0c527a79d"
          }
        },
        "f4888f67dcd240d299d2bcdf7222d044": {
          "model_module": "@jupyter-widgets/controls",
          "model_name": "HTMLModel",
          "model_module_version": "1.5.0",
          "state": {
            "_dom_classes": [],
            "_model_module": "@jupyter-widgets/controls",
            "_model_module_version": "1.5.0",
            "_model_name": "HTMLModel",
            "_view_count": null,
            "_view_module": "@jupyter-widgets/controls",
            "_view_module_version": "1.5.0",
            "_view_name": "HTMLView",
            "description": "",
            "description_tooltip": null,
            "layout": "IPY_MODEL_ff8e306587b94a7eaceb20e427702a17",
            "placeholder": "​",
            "style": "IPY_MODEL_9d4c4333c20f4b1cb6af64d5e9f1f493",
            "value": "pytorch_model.bin: 100%"
          }
        },
        "2652d43027db49a0b661d32683685bb1": {
          "model_module": "@jupyter-widgets/controls",
          "model_name": "FloatProgressModel",
          "model_module_version": "1.5.0",
          "state": {
            "_dom_classes": [],
            "_model_module": "@jupyter-widgets/controls",
            "_model_module_version": "1.5.0",
            "_model_name": "FloatProgressModel",
            "_view_count": null,
            "_view_module": "@jupyter-widgets/controls",
            "_view_module_version": "1.5.0",
            "_view_name": "ProgressView",
            "bar_style": "success",
            "description": "",
            "description_tooltip": null,
            "layout": "IPY_MODEL_10f2dd9978514d2f885ca783bd64d65c",
            "max": 371146213,
            "min": 0,
            "orientation": "horizontal",
            "style": "IPY_MODEL_a24526d2c29040398b1b5270d11817fb",
            "value": 371146213
          }
        },
        "b5a1be21197949d18561b00156fe4e4b": {
          "model_module": "@jupyter-widgets/controls",
          "model_name": "HTMLModel",
          "model_module_version": "1.5.0",
          "state": {
            "_dom_classes": [],
            "_model_module": "@jupyter-widgets/controls",
            "_model_module_version": "1.5.0",
            "_model_name": "HTMLModel",
            "_view_count": null,
            "_view_module": "@jupyter-widgets/controls",
            "_view_module_version": "1.5.0",
            "_view_name": "HTMLView",
            "description": "",
            "description_tooltip": null,
            "layout": "IPY_MODEL_f819ccff88424842be1261d8d47871f7",
            "placeholder": "​",
            "style": "IPY_MODEL_6b0cc2bf894f4f30826582af5337d4bd",
            "value": " 371M/371M [00:02&lt;00:00, 175MB/s]"
          }
        },
        "0a61b689815b4b1aba759ad0c527a79d": {
          "model_module": "@jupyter-widgets/base",
          "model_name": "LayoutModel",
          "model_module_version": "1.2.0",
          "state": {
            "_model_module": "@jupyter-widgets/base",
            "_model_module_version": "1.2.0",
            "_model_name": "LayoutModel",
            "_view_count": null,
            "_view_module": "@jupyter-widgets/base",
            "_view_module_version": "1.2.0",
            "_view_name": "LayoutView",
            "align_content": null,
            "align_items": null,
            "align_self": null,
            "border": null,
            "bottom": null,
            "display": null,
            "flex": null,
            "flex_flow": null,
            "grid_area": null,
            "grid_auto_columns": null,
            "grid_auto_flow": null,
            "grid_auto_rows": null,
            "grid_column": null,
            "grid_gap": null,
            "grid_row": null,
            "grid_template_areas": null,
            "grid_template_columns": null,
            "grid_template_rows": null,
            "height": null,
            "justify_content": null,
            "justify_items": null,
            "left": null,
            "margin": null,
            "max_height": null,
            "max_width": null,
            "min_height": null,
            "min_width": null,
            "object_fit": null,
            "object_position": null,
            "order": null,
            "overflow": null,
            "overflow_x": null,
            "overflow_y": null,
            "padding": null,
            "right": null,
            "top": null,
            "visibility": null,
            "width": null
          }
        },
        "ff8e306587b94a7eaceb20e427702a17": {
          "model_module": "@jupyter-widgets/base",
          "model_name": "LayoutModel",
          "model_module_version": "1.2.0",
          "state": {
            "_model_module": "@jupyter-widgets/base",
            "_model_module_version": "1.2.0",
            "_model_name": "LayoutModel",
            "_view_count": null,
            "_view_module": "@jupyter-widgets/base",
            "_view_module_version": "1.2.0",
            "_view_name": "LayoutView",
            "align_content": null,
            "align_items": null,
            "align_self": null,
            "border": null,
            "bottom": null,
            "display": null,
            "flex": null,
            "flex_flow": null,
            "grid_area": null,
            "grid_auto_columns": null,
            "grid_auto_flow": null,
            "grid_auto_rows": null,
            "grid_column": null,
            "grid_gap": null,
            "grid_row": null,
            "grid_template_areas": null,
            "grid_template_columns": null,
            "grid_template_rows": null,
            "height": null,
            "justify_content": null,
            "justify_items": null,
            "left": null,
            "margin": null,
            "max_height": null,
            "max_width": null,
            "min_height": null,
            "min_width": null,
            "object_fit": null,
            "object_position": null,
            "order": null,
            "overflow": null,
            "overflow_x": null,
            "overflow_y": null,
            "padding": null,
            "right": null,
            "top": null,
            "visibility": null,
            "width": null
          }
        },
        "9d4c4333c20f4b1cb6af64d5e9f1f493": {
          "model_module": "@jupyter-widgets/controls",
          "model_name": "DescriptionStyleModel",
          "model_module_version": "1.5.0",
          "state": {
            "_model_module": "@jupyter-widgets/controls",
            "_model_module_version": "1.5.0",
            "_model_name": "DescriptionStyleModel",
            "_view_count": null,
            "_view_module": "@jupyter-widgets/base",
            "_view_module_version": "1.2.0",
            "_view_name": "StyleView",
            "description_width": ""
          }
        },
        "10f2dd9978514d2f885ca783bd64d65c": {
          "model_module": "@jupyter-widgets/base",
          "model_name": "LayoutModel",
          "model_module_version": "1.2.0",
          "state": {
            "_model_module": "@jupyter-widgets/base",
            "_model_module_version": "1.2.0",
            "_model_name": "LayoutModel",
            "_view_count": null,
            "_view_module": "@jupyter-widgets/base",
            "_view_module_version": "1.2.0",
            "_view_name": "LayoutView",
            "align_content": null,
            "align_items": null,
            "align_self": null,
            "border": null,
            "bottom": null,
            "display": null,
            "flex": null,
            "flex_flow": null,
            "grid_area": null,
            "grid_auto_columns": null,
            "grid_auto_flow": null,
            "grid_auto_rows": null,
            "grid_column": null,
            "grid_gap": null,
            "grid_row": null,
            "grid_template_areas": null,
            "grid_template_columns": null,
            "grid_template_rows": null,
            "height": null,
            "justify_content": null,
            "justify_items": null,
            "left": null,
            "margin": null,
            "max_height": null,
            "max_width": null,
            "min_height": null,
            "min_width": null,
            "object_fit": null,
            "object_position": null,
            "order": null,
            "overflow": null,
            "overflow_x": null,
            "overflow_y": null,
            "padding": null,
            "right": null,
            "top": null,
            "visibility": null,
            "width": null
          }
        },
        "a24526d2c29040398b1b5270d11817fb": {
          "model_module": "@jupyter-widgets/controls",
          "model_name": "ProgressStyleModel",
          "model_module_version": "1.5.0",
          "state": {
            "_model_module": "@jupyter-widgets/controls",
            "_model_module_version": "1.5.0",
            "_model_name": "ProgressStyleModel",
            "_view_count": null,
            "_view_module": "@jupyter-widgets/base",
            "_view_module_version": "1.2.0",
            "_view_name": "StyleView",
            "bar_color": null,
            "description_width": ""
          }
        },
        "f819ccff88424842be1261d8d47871f7": {
          "model_module": "@jupyter-widgets/base",
          "model_name": "LayoutModel",
          "model_module_version": "1.2.0",
          "state": {
            "_model_module": "@jupyter-widgets/base",
            "_model_module_version": "1.2.0",
            "_model_name": "LayoutModel",
            "_view_count": null,
            "_view_module": "@jupyter-widgets/base",
            "_view_module_version": "1.2.0",
            "_view_name": "LayoutView",
            "align_content": null,
            "align_items": null,
            "align_self": null,
            "border": null,
            "bottom": null,
            "display": null,
            "flex": null,
            "flex_flow": null,
            "grid_area": null,
            "grid_auto_columns": null,
            "grid_auto_flow": null,
            "grid_auto_rows": null,
            "grid_column": null,
            "grid_gap": null,
            "grid_row": null,
            "grid_template_areas": null,
            "grid_template_columns": null,
            "grid_template_rows": null,
            "height": null,
            "justify_content": null,
            "justify_items": null,
            "left": null,
            "margin": null,
            "max_height": null,
            "max_width": null,
            "min_height": null,
            "min_width": null,
            "object_fit": null,
            "object_position": null,
            "order": null,
            "overflow": null,
            "overflow_x": null,
            "overflow_y": null,
            "padding": null,
            "right": null,
            "top": null,
            "visibility": null,
            "width": null
          }
        },
        "6b0cc2bf894f4f30826582af5337d4bd": {
          "model_module": "@jupyter-widgets/controls",
          "model_name": "DescriptionStyleModel",
          "model_module_version": "1.5.0",
          "state": {
            "_model_module": "@jupyter-widgets/controls",
            "_model_module_version": "1.5.0",
            "_model_name": "DescriptionStyleModel",
            "_view_count": null,
            "_view_module": "@jupyter-widgets/base",
            "_view_module_version": "1.2.0",
            "_view_name": "StyleView",
            "description_width": ""
          }
        },
        "ee7337b52e514de19bc094255a51eb2a": {
          "model_module": "@jupyter-widgets/controls",
          "model_name": "HBoxModel",
          "model_module_version": "1.5.0",
          "state": {
            "_dom_classes": [],
            "_model_module": "@jupyter-widgets/controls",
            "_model_module_version": "1.5.0",
            "_model_name": "HBoxModel",
            "_view_count": null,
            "_view_module": "@jupyter-widgets/controls",
            "_view_module_version": "1.5.0",
            "_view_name": "HBoxView",
            "box_style": "",
            "children": [
              "IPY_MODEL_747482a6967b45ba8c6048a883672bab",
              "IPY_MODEL_6233f939bd90445bb3422d5e8441436c",
              "IPY_MODEL_8c10617474704d4194306f586fe3c3eb"
            ],
            "layout": "IPY_MODEL_f21f1894770d41eb8978d76cce41f81f"
          }
        },
        "747482a6967b45ba8c6048a883672bab": {
          "model_module": "@jupyter-widgets/controls",
          "model_name": "HTMLModel",
          "model_module_version": "1.5.0",
          "state": {
            "_dom_classes": [],
            "_model_module": "@jupyter-widgets/controls",
            "_model_module_version": "1.5.0",
            "_model_name": "HTMLModel",
            "_view_count": null,
            "_view_module": "@jupyter-widgets/controls",
            "_view_module_version": "1.5.0",
            "_view_name": "HTMLView",
            "description": "",
            "description_tooltip": null,
            "layout": "IPY_MODEL_3b60f9c9684a40c486d25a5d47611615",
            "placeholder": "​",
            "style": "IPY_MODEL_6438938af06846619c06cbd7e01f5935",
            "value": "model.safetensors: 100%"
          }
        },
        "6233f939bd90445bb3422d5e8441436c": {
          "model_module": "@jupyter-widgets/controls",
          "model_name": "FloatProgressModel",
          "model_module_version": "1.5.0",
          "state": {
            "_dom_classes": [],
            "_model_module": "@jupyter-widgets/controls",
            "_model_module_version": "1.5.0",
            "_model_name": "FloatProgressModel",
            "_view_count": null,
            "_view_module": "@jupyter-widgets/controls",
            "_view_module_version": "1.5.0",
            "_view_name": "ProgressView",
            "bar_style": "success",
            "description": "",
            "description_tooltip": null,
            "layout": "IPY_MODEL_11033b67ab5d41929c9f10cf9d2617a1",
            "max": 371101258,
            "min": 0,
            "orientation": "horizontal",
            "style": "IPY_MODEL_881600798c12400f97d66043516559e8",
            "value": 371101258
          }
        },
        "8c10617474704d4194306f586fe3c3eb": {
          "model_module": "@jupyter-widgets/controls",
          "model_name": "HTMLModel",
          "model_module_version": "1.5.0",
          "state": {
            "_dom_classes": [],
            "_model_module": "@jupyter-widgets/controls",
            "_model_module_version": "1.5.0",
            "_model_name": "HTMLModel",
            "_view_count": null,
            "_view_module": "@jupyter-widgets/controls",
            "_view_module_version": "1.5.0",
            "_view_name": "HTMLView",
            "description": "",
            "description_tooltip": null,
            "layout": "IPY_MODEL_0a84109d60094e3dac24a7b3e8cfd46b",
            "placeholder": "​",
            "style": "IPY_MODEL_127e607d33d1407f9e0f54eff8698acd",
            "value": " 371M/371M [00:09&lt;00:00, 88.3MB/s]"
          }
        },
        "f21f1894770d41eb8978d76cce41f81f": {
          "model_module": "@jupyter-widgets/base",
          "model_name": "LayoutModel",
          "model_module_version": "1.2.0",
          "state": {
            "_model_module": "@jupyter-widgets/base",
            "_model_module_version": "1.2.0",
            "_model_name": "LayoutModel",
            "_view_count": null,
            "_view_module": "@jupyter-widgets/base",
            "_view_module_version": "1.2.0",
            "_view_name": "LayoutView",
            "align_content": null,
            "align_items": null,
            "align_self": null,
            "border": null,
            "bottom": null,
            "display": null,
            "flex": null,
            "flex_flow": null,
            "grid_area": null,
            "grid_auto_columns": null,
            "grid_auto_flow": null,
            "grid_auto_rows": null,
            "grid_column": null,
            "grid_gap": null,
            "grid_row": null,
            "grid_template_areas": null,
            "grid_template_columns": null,
            "grid_template_rows": null,
            "height": null,
            "justify_content": null,
            "justify_items": null,
            "left": null,
            "margin": null,
            "max_height": null,
            "max_width": null,
            "min_height": null,
            "min_width": null,
            "object_fit": null,
            "object_position": null,
            "order": null,
            "overflow": null,
            "overflow_x": null,
            "overflow_y": null,
            "padding": null,
            "right": null,
            "top": null,
            "visibility": null,
            "width": null
          }
        },
        "3b60f9c9684a40c486d25a5d47611615": {
          "model_module": "@jupyter-widgets/base",
          "model_name": "LayoutModel",
          "model_module_version": "1.2.0",
          "state": {
            "_model_module": "@jupyter-widgets/base",
            "_model_module_version": "1.2.0",
            "_model_name": "LayoutModel",
            "_view_count": null,
            "_view_module": "@jupyter-widgets/base",
            "_view_module_version": "1.2.0",
            "_view_name": "LayoutView",
            "align_content": null,
            "align_items": null,
            "align_self": null,
            "border": null,
            "bottom": null,
            "display": null,
            "flex": null,
            "flex_flow": null,
            "grid_area": null,
            "grid_auto_columns": null,
            "grid_auto_flow": null,
            "grid_auto_rows": null,
            "grid_column": null,
            "grid_gap": null,
            "grid_row": null,
            "grid_template_areas": null,
            "grid_template_columns": null,
            "grid_template_rows": null,
            "height": null,
            "justify_content": null,
            "justify_items": null,
            "left": null,
            "margin": null,
            "max_height": null,
            "max_width": null,
            "min_height": null,
            "min_width": null,
            "object_fit": null,
            "object_position": null,
            "order": null,
            "overflow": null,
            "overflow_x": null,
            "overflow_y": null,
            "padding": null,
            "right": null,
            "top": null,
            "visibility": null,
            "width": null
          }
        },
        "6438938af06846619c06cbd7e01f5935": {
          "model_module": "@jupyter-widgets/controls",
          "model_name": "DescriptionStyleModel",
          "model_module_version": "1.5.0",
          "state": {
            "_model_module": "@jupyter-widgets/controls",
            "_model_module_version": "1.5.0",
            "_model_name": "DescriptionStyleModel",
            "_view_count": null,
            "_view_module": "@jupyter-widgets/base",
            "_view_module_version": "1.2.0",
            "_view_name": "StyleView",
            "description_width": ""
          }
        },
        "11033b67ab5d41929c9f10cf9d2617a1": {
          "model_module": "@jupyter-widgets/base",
          "model_name": "LayoutModel",
          "model_module_version": "1.2.0",
          "state": {
            "_model_module": "@jupyter-widgets/base",
            "_model_module_version": "1.2.0",
            "_model_name": "LayoutModel",
            "_view_count": null,
            "_view_module": "@jupyter-widgets/base",
            "_view_module_version": "1.2.0",
            "_view_name": "LayoutView",
            "align_content": null,
            "align_items": null,
            "align_self": null,
            "border": null,
            "bottom": null,
            "display": null,
            "flex": null,
            "flex_flow": null,
            "grid_area": null,
            "grid_auto_columns": null,
            "grid_auto_flow": null,
            "grid_auto_rows": null,
            "grid_column": null,
            "grid_gap": null,
            "grid_row": null,
            "grid_template_areas": null,
            "grid_template_columns": null,
            "grid_template_rows": null,
            "height": null,
            "justify_content": null,
            "justify_items": null,
            "left": null,
            "margin": null,
            "max_height": null,
            "max_width": null,
            "min_height": null,
            "min_width": null,
            "object_fit": null,
            "object_position": null,
            "order": null,
            "overflow": null,
            "overflow_x": null,
            "overflow_y": null,
            "padding": null,
            "right": null,
            "top": null,
            "visibility": null,
            "width": null
          }
        },
        "881600798c12400f97d66043516559e8": {
          "model_module": "@jupyter-widgets/controls",
          "model_name": "ProgressStyleModel",
          "model_module_version": "1.5.0",
          "state": {
            "_model_module": "@jupyter-widgets/controls",
            "_model_module_version": "1.5.0",
            "_model_name": "ProgressStyleModel",
            "_view_count": null,
            "_view_module": "@jupyter-widgets/base",
            "_view_module_version": "1.2.0",
            "_view_name": "StyleView",
            "bar_color": null,
            "description_width": ""
          }
        },
        "0a84109d60094e3dac24a7b3e8cfd46b": {
          "model_module": "@jupyter-widgets/base",
          "model_name": "LayoutModel",
          "model_module_version": "1.2.0",
          "state": {
            "_model_module": "@jupyter-widgets/base",
            "_model_module_version": "1.2.0",
            "_model_name": "LayoutModel",
            "_view_count": null,
            "_view_module": "@jupyter-widgets/base",
            "_view_module_version": "1.2.0",
            "_view_name": "LayoutView",
            "align_content": null,
            "align_items": null,
            "align_self": null,
            "border": null,
            "bottom": null,
            "display": null,
            "flex": null,
            "flex_flow": null,
            "grid_area": null,
            "grid_auto_columns": null,
            "grid_auto_flow": null,
            "grid_auto_rows": null,
            "grid_column": null,
            "grid_gap": null,
            "grid_row": null,
            "grid_template_areas": null,
            "grid_template_columns": null,
            "grid_template_rows": null,
            "height": null,
            "justify_content": null,
            "justify_items": null,
            "left": null,
            "margin": null,
            "max_height": null,
            "max_width": null,
            "min_height": null,
            "min_width": null,
            "object_fit": null,
            "object_position": null,
            "order": null,
            "overflow": null,
            "overflow_x": null,
            "overflow_y": null,
            "padding": null,
            "right": null,
            "top": null,
            "visibility": null,
            "width": null
          }
        },
        "127e607d33d1407f9e0f54eff8698acd": {
          "model_module": "@jupyter-widgets/controls",
          "model_name": "DescriptionStyleModel",
          "model_module_version": "1.5.0",
          "state": {
            "_model_module": "@jupyter-widgets/controls",
            "_model_module_version": "1.5.0",
            "_model_name": "DescriptionStyleModel",
            "_view_count": null,
            "_view_module": "@jupyter-widgets/base",
            "_view_module_version": "1.2.0",
            "_view_name": "StyleView",
            "description_width": ""
          }
        }
      }
    }
  },
  "nbformat": 4,
  "nbformat_minor": 0
}